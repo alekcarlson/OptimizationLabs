{
 "cells": [
  {
   "cell_type": "markdown",
   "metadata": {},
   "source": [
    "# Executive Summary:"
   ]
  },
  {
   "cell_type": "markdown",
   "metadata": {},
   "source": [
    "### Brief Problem Overview:"
   ]
  },
  {
   "cell_type": "markdown",
   "metadata": {},
   "source": [
    "Trojan E-commerce has 17 fulfillment centers across the US and this year they have the capital to implement small scale capacity increases at a few of the fulfillment centers. They would like to identify the top five fulfilment centers in which a small-scale capacity expansion would yield the greatest cost savings to Trojan’s supply chain. In the data given, the items Trojan offers have been clustered into 100 representative items, the US has been split into 98 demand regions, and the weekly demand of each region has been estimated. Trojan wishes to minimize the total transportation cost but are constrained by the capacity at each fulfillment center, and of course satisfying the weekly demand in each region."
   ]
  },
  {
   "cell_type": "markdown",
   "metadata": {},
   "source": [
    "### The minimum total shipping cost for \"data.xlsx\":\n",
    "The minimum total shipping cost for Nia's company calculated from the information given in \"data.xlsx\" is $9,841,229.29"
   ]
  },
  {
   "cell_type": "markdown",
   "metadata": {},
   "source": [
    "### Recommended FCs to invest in a small scale capacity increase so as to achieve the highest cost savings:"
   ]
  },
  {
   "cell_type": "markdown",
   "metadata": {},
   "source": [
    "The recommended FC's to invest in a small scale capacity increase are as follows: <br>\n",
    "- TPA1 with a shadow price of -5.333088\n",
    "- MKE1 with a shadow price of -4.276396\n",
    "- SDF8 with a shadow price of -2.486980\n",
    "- BDL1 with a shadow price of -2.302010\n",
    "- EWR4 with a shadow price of -1.807986"
   ]
  },
  {
   "cell_type": "markdown",
   "metadata": {},
   "source": [
    "# Abstract Formulation"
   ]
  },
  {
   "cell_type": "markdown",
   "metadata": {},
   "source": [
    "**Data:** \n",
    "\n",
    "- $I$: the set of fulfillment centers (FC's). \n",
    "- $J$: the set of demand regions.\n",
    "- $K$: the set of items\n",
    "- $w_k$: the shipping weight of item $k$.\n",
    "- $𝛿_{ij}$: the the distance from FC $i$ to region $j$ (thousands of miles).\n",
    "- $d_{jk}$: weekly demand for item $k$ in region $j$.\n",
    "- $s_k$: the amount of space required to store one unit of item $k$.\n",
    "- $q_i$: total capacity of FC $i$.\n",
    "\n",
    "**Decision Variables:** For each FC $i \\in I$ , each demand region $j \\in J$, and each item $k \\in K$, let $x_{ijk}$ denote the number of units to send of item $k$ from FC $i$ to demand region $j$. (Integer)\n",
    "\n",
    "**Objective and constraints:**\n",
    "\n",
    "$$\\begin{aligned}\n",
    "\\text{Minimize:} && \\sum_{i \\in I, j\\in J, k\\in K} 1.38w_k𝛿_{ij}x_{ijk} \\\\\n",
    "\\text{subject to:} \\\\\n",
    "\\text{(FC Capacity)} && \\sum_{j \\in J,k \\in K} x_{ijk}s_k & \\le q_i && \\text{ for $i \\in I$.}\\\\\n",
    "\\text{(Demand)} && \\sum_{i \\in I} x_{ijk} & \\ge d_{jk} && \\text{ for $j \\in J$, $k \\in K$.}\\\\\n",
    "\\text{(Non-Negativity)} && x_{ijk} & \\ge 0 && \\text{for $i \\in I, j \\in J, k \\in K$} \\\\\n",
    "\\end{aligned}$$"
   ]
  },
  {
   "cell_type": "markdown",
   "metadata": {},
   "source": [
    "# Technical Appendix"
   ]
  },
  {
   "cell_type": "code",
   "execution_count": 29,
   "metadata": {},
   "outputs": [],
   "source": [
    "#importing necessary packages, importing data\n",
    "\n",
    "import pandas as pd\n",
    "from gurobipy import Model, GRB\n",
    "\n",
    "fcs = pd.read_excel('small_data.xlsx',index_col=0) #fcs\n",
    "regions = pd.read_excel('small_data.xlsx',sheet_name = 'Regions',index_col=0) #regions\n",
    "distance = pd.read_excel('small_data.xlsx',sheet_name = 'Distances',index_col=0)\n",
    "items = pd.read_excel('small_data.xlsx',sheet_name = 'Items',index_col=0) #items\n",
    "demand = pd.read_excel('small_data.xlsx',sheet_name = 'Demand',index_col=0) #item"
   ]
  },
  {
   "cell_type": "code",
   "execution_count": 30,
   "metadata": {},
   "outputs": [],
   "source": [
    "#setting up data variables\n",
    "I = fcs.index                #set of fcs\n",
    "J = regions.index            #set of regions\n",
    "K = items.index              #set of items  \n",
    "w = items['shipping_weight'] #item shipping weight              w_k\n",
    "q = fcs['capacity']          #fc capacity                       q_i\n",
    "s = items['storage_size']    #item storage size                 s_k\n",
    "# distance.loc[j,i]          #distance from fc i to region j    𝛿_ij\n",
    "# demand.loc[k,j]            #demand for item k in region j     d_jk"
   ]
  },
  {
   "cell_type": "code",
   "execution_count": 31,
   "metadata": {},
   "outputs": [
    {
     "data": {
      "text/plain": [
       "3400.769189999999"
      ]
     },
     "execution_count": 31,
     "metadata": {},
     "output_type": "execute_result"
    }
   ],
   "source": [
    "#initial optimization model for smalldata\n",
    "mod = Model()\n",
    "\n",
    "x = mod.addVars(I,J,K)\n",
    "mod.setObjective(sum(1.38*w[k]*distance.loc[j,i]*x[i,j,k] for i in I for j in J for k in K))\n",
    "fc_constraint = {}\n",
    "for i in I:\n",
    "    fc_constraint[i]=mod.addConstr(sum(x[i,j,k]*s[k] for j in J for k in K)<=q[i])\n",
    "for k in K:\n",
    "    for j in J:\n",
    "        mod.addConstr(sum(x[i,j,k] for i in I)>=demand.loc[k,j])\n",
    "mod.setParam('outputflag',False)\n",
    "mod.optimize()\n",
    "mod.objval"
   ]
  },
  {
   "cell_type": "code",
   "execution_count": 32,
   "metadata": {},
   "outputs": [],
   "source": [
    "#adding in excel writer\n",
    "\n",
    "mod = Model()\n",
    "\n",
    "x = mod.addVars(I,J,K)\n",
    "mod.setObjective(sum(1.38*w[k]*distance.loc[j,i]*x[i,j,k] for i in I for j in J for k in K))\n",
    "fc_constraint = {}\n",
    "for i in I:\n",
    "    fc_constraint[i]=mod.addConstr(sum(x[i,j,k]*s[k] for j in J for k in K)<=q[i])\n",
    "for k in K:\n",
    "    for j in J:\n",
    "        mod.addConstr(sum(x[i,j,k] for i in I)>=demand.loc[k,j])\n",
    "mod.setParam('outputflag',False)\n",
    "mod.optimize()\n",
    "writer=pd.ExcelWriter('smalldata.xlsx')\n",
    "pd.DataFrame([mod.objVal],columns=['Objective Value']).to_excel(writer,sheet_name='Summary',index=False)\n",
    "df = pd.DataFrame(columns=['FC_name','region_ID','item_ID','shipment'])\n",
    "for i in I:\n",
    "    for j in J:\n",
    "        for k in K:\n",
    "            if x[i,j,k].x > 0:\n",
    "                newrow = {'FC_name':i,'region_ID':j,'item_ID':k,'shipment':x[i,j,k].x}\n",
    "                df = df.append(newrow,True)\n",
    "df.to_excel(writer,sheet_name='Solution',index=False)\n",
    "shadow_prices = pd.DataFrame(columns=['FC_name', 'shadow_price'])\n",
    "for key, value in fc_constraint.items():\n",
    "        shadow_prices = shadow_prices.append({'FC_name': key, 'shadow_price': value.pi}, True)\n",
    "shadow_prices = shadow_prices.sort_values(by = 'shadow_price').reset_index(drop = True).loc[:4, :]\n",
    "shadow_prices.to_excel(writer, sheet_name='Capacity Constraints', index=False)\n",
    "writer.save()"
   ]
  },
  {
   "cell_type": "code",
   "execution_count": 33,
   "metadata": {},
   "outputs": [],
   "source": [
    "#creating function\n",
    "def optimize(inputFile,outputFile):\n",
    "    '''This function will take an excel sheet in the same format as 'data.xlsx' as an input and requires a desired\n",
    "    file path for the output file. It will return what is the minimum transportation cost achievable with the \n",
    "    input data. It will also return the 5 fulfillment centers with the most negative shadow prices. These 5 fulfillment\n",
    "    centers are the recommended FCs to make small scale capacity increases at in order to lower the minimum \n",
    "    transportation cost. ''' \n",
    "    import pandas as pd\n",
    "    from gurobipy import Model, GRB\n",
    "    fcs = pd.read_excel(inputFile,index_col=0) \n",
    "    regions = pd.read_excel(inputFile,sheet_name = 'Regions',index_col=0) \n",
    "    distance = pd.read_excel(inputFile,sheet_name = 'Distances',index_col=0)\n",
    "    items = pd.read_excel(inputFile,sheet_name = 'Items',index_col=0) \n",
    "    demand = pd.read_excel(inputFile,sheet_name = 'Demand',index_col=0) \n",
    "    I = fcs.index                \n",
    "    J = regions.index            \n",
    "    K = items.index              \n",
    "    w = items['shipping_weight']              \n",
    "    q = fcs['capacity']          \n",
    "    s = items['storage_size']    \n",
    "    mod = Model()\n",
    "    x = mod.addVars(I,J,K)\n",
    "    mod.setObjective(sum(1.38*w[k]*distance.loc[j,i]*x[i,j,k] for i in I for j in J for k in K))\n",
    "    fc_constraint = {}\n",
    "    for i in I:\n",
    "        fc_constraint[i]=mod.addConstr(sum(x[i,j,k]*s[k] for j in J for k in K)<=q[i])\n",
    "    for k in K:\n",
    "        for j in J:\n",
    "            mod.addConstr(sum(x[i,j,k] for i in I)>=demand.loc[k,j])\n",
    "    mod.setParam('outputflag',False)\n",
    "    mod.optimize()\n",
    "    writer=pd.ExcelWriter(outputFile)\n",
    "    pd.DataFrame([mod.objVal],columns=['Objective Value']).to_excel(writer,sheet_name='Summary',index=False)\n",
    "    df = pd.DataFrame(columns=['FC_name','region_ID','item_ID','shipment'])\n",
    "    for i in I:\n",
    "        for j in J:\n",
    "            for k in K:\n",
    "                if x[i,j,k].x > 0:\n",
    "                    newrow = {'FC_name':i,'region_ID':j,'item_ID':k,'shipment':x[i,j,k].x}\n",
    "                    df = df.append(newrow,True)\n",
    "    df.to_excel(writer,sheet_name='Solution',index=False)\n",
    "    shadow_prices = pd.DataFrame(columns=['FC_name', 'shadow_price'])\n",
    "    for key, value in fc_constraint.items():\n",
    "            shadow_prices = shadow_prices.append({'FC_name': key, 'shadow_price': value.pi}, True)\n",
    "    shadow_prices = shadow_prices.sort_values(by = 'shadow_price').reset_index(drop = True).loc[:4, :]\n",
    "    shadow_prices.to_excel(writer, sheet_name='Capacity Constraints', index=False)\n",
    "    writer.save()   "
   ]
  },
  {
   "cell_type": "code",
   "execution_count": 34,
   "metadata": {},
   "outputs": [],
   "source": [
    "#testing function\n",
    "\n",
    "optimize('data.xlsx','data_results.xlsx')"
   ]
  },
  {
   "cell_type": "code",
   "execution_count": 35,
   "metadata": {},
   "outputs": [
    {
     "name": "stdout",
     "output_type": "stream",
     "text": [
      "Empty DataFrame\n",
      "Columns: []\n",
      "Index: [9841229.288170155]          shadow_price\n",
      "FC_name              \n",
      "TPA1        -5.333088\n",
      "MKE1        -4.276396\n",
      "SDF8        -2.486980\n",
      "BDL1        -2.302010\n",
      "EWR4        -1.807986\n"
     ]
    }
   ],
   "source": [
    "#reading results of function\n",
    "\n",
    "min_cost= pd.read_excel('data_results.xlsx',sheet_name='Summary',index_col=0)\n",
    "top5fcs = pd.read_excel('data_results.xlsx',sheet_name='Capacity Constraints',index_col=0)\n",
    "print(min_cost,top5fcs)"
   ]
  },
  {
   "cell_type": "code",
   "execution_count": null,
   "metadata": {},
   "outputs": [],
   "source": [
    "#code to add at end of function, only going to add to .py file\n",
    "\n",
    "if __name__=='__main__':\n",
    "    import sys, os\n",
    "    if len(sys.argv)!=3:\n",
    "        print('Correct syntax: python lab2_code.py inputFile outputFile')\n",
    "    else:\n",
    "        inputFile=sys.argv[1]\n",
    "        outputFile=sys.argv[2]\n",
    "        if os.path.exists(inputFile):\n",
    "            optimize(inputFile,outputFile)\n",
    "            print(f'Successfully optimized. Results in \"{outputFile}\"')\n",
    "        else:\n",
    "            print(f'File \"{inputFile}\" not found!')"
   ]
  }
 ],
 "metadata": {
  "kernelspec": {
   "display_name": "Python 3",
   "language": "python",
   "name": "python3"
  },
  "language_info": {
   "codemirror_mode": {
    "name": "ipython",
    "version": 3
   },
   "file_extension": ".py",
   "mimetype": "text/x-python",
   "name": "python",
   "nbconvert_exporter": "python",
   "pygments_lexer": "ipython3",
   "version": "3.7.3"
  }
 },
 "nbformat": 4,
 "nbformat_minor": 2
}
