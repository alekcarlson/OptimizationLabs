{
 "cells": [
  {
   "cell_type": "markdown",
   "metadata": {},
   "source": [
    "# Lab 1: Revenue Management for Trojan Airlines"
   ]
  },
  {
   "cell_type": "code",
   "execution_count": 1,
   "metadata": {},
   "outputs": [],
   "source": [
    "#import necessary packages\n",
    "from scipy.stats import norm\n",
    "from scipy.stats import binom\n",
    "from scipy.stats import uniform\n",
    "import numpy as np\n",
    "import pandas as pd\n",
    "import matplotlib.pyplot as plt"
   ]
  },
  {
   "cell_type": "markdown",
   "metadata": {},
   "source": [
    "# 1. Executive Summary\n",
    "\n",
    "The question at hand is, what is the optimal revenue that can be obtained from each of the following three pricing policies, and what are the optimal choice of parameters for each policy? After conductiong a simulation analysis I have come to the following conclusions and recommendation.\n",
    "\n",
    "### Constant\n",
    "\n",
    "Optimal p = 250 and the associated expected profit = $2755\n",
    "\n",
    "### Dynamic\n",
    "\n",
    "Optimal p1 = 240 and p2 = 305 and the associated expected profit = $3454.35\n",
    "\n",
    "### Rationing\n",
    "Optimal p1 = 250, p2 = 330, and l = 38 and the associated expected profit = $2796.9\n",
    "\n",
    "### Recommendation\n",
    "I would recommend the dynamic pricing stragegy because in this simulation this policy has yielded the highest expected profit. The estimated percentage gain in expected profit when compared to using the constant policy with the optimal price is approximately 25.38%."
   ]
  },
  {
   "cell_type": "markdown",
   "metadata": {},
   "source": [
    "# 2. Generating Customers"
   ]
  },
  {
   "cell_type": "code",
   "execution_count": 2,
   "metadata": {},
   "outputs": [],
   "source": [
    "def generateCustomers():\n",
    "    l_size = norm(200,60)\n",
    "    l_time = uniform(0,180)\n",
    "    l_will = norm(200,80)\n",
    "    b_size = norm(60,20)\n",
    "    b_time = uniform(0,14)\n",
    "    b_will = norm(350,120)\n",
    "    #leisure DF\n",
    "    samplel = int(l_size.rvs())\n",
    "    if samplel <0:\n",
    "        samplel = 0\n",
    "    time_l = pd.Series([l_time.rvs() for i in range(samplel)])\n",
    "    value_l = pd.Series([l_will.rvs() for i in range(samplel)])\n",
    "    leisure = pd.DataFrame({'arrival_time':time_l,'valuation':value_l})\n",
    "    #business DF\n",
    "    sampleb = int(b_size.rvs())\n",
    "    if sampleb <0:\n",
    "        sampleb = 0\n",
    "    time_b = pd.Series([b_time.rvs() for i in range(sampleb)])\n",
    "    value_b = pd.Series([b_will.rvs() for i in range(sampleb)])\n",
    "    business = pd.DataFrame({'arrival_time':time_b,'valuation':value_b})\n",
    "    #join & sort DFs\n",
    "    customerdf = pd.concat([leisure,business])\n",
    "    sorted_customerdf = customerdf.sort_values(by = 'arrival_time',ascending = False).reset_index(drop = True)\n",
    "    return sorted_customerdf  "
   ]
  },
  {
   "cell_type": "markdown",
   "metadata": {},
   "source": [
    "# 3. Simulating Pricing Policies"
   ]
  },
  {
   "cell_type": "code",
   "execution_count": 3,
   "metadata": {},
   "outputs": [],
   "source": [
    "def simulateConstant(customers,seats,p):\n",
    "    values = customers.loc[:,'valuation'].values\n",
    "    revenue = 0\n",
    "    demand = 0\n",
    "    for i in range(len(values)):\n",
    "        if values[i] >= p:\n",
    "            demand +=1\n",
    "            seats -=1\n",
    "            if seats == 0:\n",
    "                break\n",
    "    revenue = demand*p\n",
    "    return revenue\n",
    "\n",
    "def simulateDynamic(customers,seats,p1,p2):\n",
    "    values = customers.loc[:,'valuation'].values\n",
    "    times = customers.loc[:,'arrival_time'].values\n",
    "    revenue = 0\n",
    "    demand1 = 0\n",
    "    demand2 = 0\n",
    "    for i in range(len(times)):\n",
    "        if times[i] > 14:\n",
    "            price = p1\n",
    "            if values[i]>=price:\n",
    "                demand1 +=1\n",
    "                seats -=1\n",
    "                if seats == 0:\n",
    "                    break\n",
    "        else:\n",
    "            price = p2\n",
    "            if values[i]>=price:\n",
    "                demand2 +=1\n",
    "                seats -=1\n",
    "                if seats == 0:\n",
    "                    break\n",
    "    revenue = demand1*p1 + demand2*p2\n",
    "    return revenue\n",
    "\n",
    "def simulateRationing(customers,seats,p1,p2,l):\n",
    "    values = customers.loc[:,'valuation'].values\n",
    "    revenue = 0\n",
    "    demand1 = 0\n",
    "    demand2 = 0\n",
    "    for i in range(len(values)):\n",
    "        if seats > 0 and seats != l:\n",
    "            price = p1\n",
    "            if values[i] >= price:\n",
    "                demand1 +=1\n",
    "                seats -=1\n",
    "        elif seats == l:\n",
    "            price = p2\n",
    "            if values[i] >= price:\n",
    "                demand2 +=1\n",
    "                seats -=1\n",
    "        elif seats == 0:\n",
    "            break\n",
    "    revenue = demand1*p1 + demand2*p2\n",
    "    return revenue"
   ]
  },
  {
   "cell_type": "markdown",
   "metadata": {},
   "source": [
    "# 4. Optimizing Parameters"
   ]
  },
  {
   "cell_type": "code",
   "execution_count": 13,
   "metadata": {},
   "outputs": [],
   "source": [
    "#create 100 sample DF's of customers\n",
    "dfs = [generateCustomers() for i in range(100)]"
   ]
  },
  {
   "cell_type": "markdown",
   "metadata": {},
   "source": [
    "## Constant"
   ]
  },
  {
   "cell_type": "code",
   "execution_count": 14,
   "metadata": {},
   "outputs": [
    {
     "name": "stdout",
     "output_type": "stream",
     "text": [
      "Constant price policy: best p = $250, estimated expected profit = $2755.0\n"
     ]
    }
   ],
   "source": [
    "seats = 100\n",
    "bestrev = 0\n",
    "bestp = 0\n",
    "fixed = 20000\n",
    "\n",
    "for p in range(0,800,5):\n",
    "    revenues = []\n",
    "    for d in range(len(dfs)):\n",
    "        customers = dfs[d]\n",
    "        revenues.append(simulateConstant(customers,seats,p))   \n",
    "    average = sum(revenues)/len(revenues)  \n",
    "    if average > bestrev:\n",
    "        bestrev = average\n",
    "        bestp = p\n",
    "        \n",
    "print(f'Constant price policy: best p = ${bestp}, estimated expected profit = ${round(bestrev-fixed,2)}') "
   ]
  },
  {
   "cell_type": "markdown",
   "metadata": {},
   "source": [
    "## Dynamic"
   ]
  },
  {
   "cell_type": "code",
   "execution_count": 15,
   "metadata": {},
   "outputs": [
    {
     "name": "stdout",
     "output_type": "stream",
     "text": [
      "Dynamic price policy: best p1 = $240, best p2 = $305, estimated expected profit = $3454.35\n"
     ]
    }
   ],
   "source": [
    "seats = 100\n",
    "bestrev, bestp1, bestp2 = 0, 0, 0\n",
    "fixed = 20000\n",
    "\n",
    "for p1 in range(200,300,5):\n",
    "    for p2 in range(p1,350,5):\n",
    "        revenues = []\n",
    "        for d in range(len(dfs)):\n",
    "            customers = dfs[d]\n",
    "            revenues.append(simulateDynamic(customers,seats,p1,p2))  \n",
    "        average = sum(revenues)/len(revenues)\n",
    "        if average > bestrev:\n",
    "            bestrev = average\n",
    "            bestp1, bestp2 = p1,p2\n",
    "                \n",
    "print(f'Dynamic price policy: best p1 = ${bestp1}, best p2 = ${bestp2}, estimated expected profit = ${round(bestrev-fixed,2)}')"
   ]
  },
  {
   "cell_type": "markdown",
   "metadata": {},
   "source": [
    "## Rationing"
   ]
  },
  {
   "cell_type": "code",
   "execution_count": 16,
   "metadata": {},
   "outputs": [
    {
     "name": "stdout",
     "output_type": "stream",
     "text": [
      "Capacity rationing policy: best p1 = 250, best p2 = 330, best l = 38, estimated expected profit = $2796.9\n"
     ]
    }
   ],
   "source": [
    "seats = 100\n",
    "bestrev, bestp1, bestp2, bestl = 0, 0, 0, 0\n",
    "fixed = 20000\n",
    "\n",
    "for p1 in range(200,300,10):\n",
    "    for p2 in range(p1,350,10):\n",
    "        for l in range(30,50,1):\n",
    "            revenues = []\n",
    "            for d in range(len(dfs)):\n",
    "                customers = dfs[d]\n",
    "                revenues.append(simulateRationing(customers,seats,p1,p2,l))  \n",
    "            average = sum(revenues)/len(revenues) \n",
    "            if average > bestrev:\n",
    "                bestrev = average\n",
    "                bestp1, bestp2, bestl = p1,p2,l\n",
    "print(f'Capacity rationing policy: best p1 = {bestp1}, best p2 = {bestp2}, best l = {bestl}, estimated expected profit = ${round(bestrev-fixed,2)}')"
   ]
  },
  {
   "cell_type": "markdown",
   "metadata": {},
   "source": [
    "# Checking correctness"
   ]
  },
  {
   "cell_type": "code",
   "execution_count": 8,
   "metadata": {},
   "outputs": [
    {
     "data": {
      "text/html": [
       "<div>\n",
       "<style scoped>\n",
       "    .dataframe tbody tr th:only-of-type {\n",
       "        vertical-align: middle;\n",
       "    }\n",
       "\n",
       "    .dataframe tbody tr th {\n",
       "        vertical-align: top;\n",
       "    }\n",
       "\n",
       "    .dataframe thead th {\n",
       "        text-align: right;\n",
       "    }\n",
       "</style>\n",
       "<table border=\"1\" class=\"dataframe\">\n",
       "  <thead>\n",
       "    <tr style=\"text-align: right;\">\n",
       "      <th></th>\n",
       "      <th>arrival_time</th>\n",
       "      <th>valuation</th>\n",
       "    </tr>\n",
       "  </thead>\n",
       "  <tbody>\n",
       "    <tr>\n",
       "      <th>0</th>\n",
       "      <td>178.042818</td>\n",
       "      <td>74.658794</td>\n",
       "    </tr>\n",
       "    <tr>\n",
       "      <th>1</th>\n",
       "      <td>177.999009</td>\n",
       "      <td>288.681188</td>\n",
       "    </tr>\n",
       "    <tr>\n",
       "      <th>2</th>\n",
       "      <td>177.264059</td>\n",
       "      <td>19.279536</td>\n",
       "    </tr>\n",
       "    <tr>\n",
       "      <th>3</th>\n",
       "      <td>176.886044</td>\n",
       "      <td>20.178099</td>\n",
       "    </tr>\n",
       "    <tr>\n",
       "      <th>4</th>\n",
       "      <td>176.239414</td>\n",
       "      <td>266.621470</td>\n",
       "    </tr>\n",
       "  </tbody>\n",
       "</table>\n",
       "</div>"
      ],
      "text/plain": [
       "   arrival_time   valuation\n",
       "0    178.042818   74.658794\n",
       "1    177.999009  288.681188\n",
       "2    177.264059   19.279536\n",
       "3    176.886044   20.178099\n",
       "4    176.239414  266.621470"
      ]
     },
     "execution_count": 8,
     "metadata": {},
     "output_type": "execute_result"
    }
   ],
   "source": [
    "generateCustomers().head()"
   ]
  },
  {
   "cell_type": "code",
   "execution_count": 9,
   "metadata": {},
   "outputs": [
    {
     "data": {
      "text/plain": [
       "<matplotlib.axes._subplots.AxesSubplot at 0x1a15dcb470>"
      ]
     },
     "execution_count": 9,
     "metadata": {},
     "output_type": "execute_result"
    },
    {
     "data": {
      "image/png": "[encoded data removed]",
      "text/plain": [
       "<Figure size 432x288 with 1 Axes>"
      ]
     },
     "metadata": {
      "needs_background": "light"
     },
     "output_type": "display_data"
    }
   ],
   "source": [
    "import numpy as np\n",
    "np.random.seed(0)\n",
    "pd.concat([generateCustomers() for i in range(20)])\\\n",
    "    .plot(x='arrival_time',y='valuation',kind='scatter')"
   ]
  },
  {
   "cell_type": "code",
   "execution_count": 10,
   "metadata": {},
   "outputs": [
    {
     "name": "stdout",
     "output_type": "stream",
     "text": [
      "Constant policy with 2 seats p=50 \t: 100\n",
      "Constant policy with 2 seats p=100 \t: 100\n",
      "Dynamic policy with 3 seats p1=40, p2=95 \t: 175\n",
      "Dynamic policy with 2 seats p1=40, p2=95 \t: 80\n",
      "Dynamic policy with 1 seats p1=50, p2=100 \t: 50\n",
      "Rationing policy with 3 seats p1=40, p2=100, l=1 \t: 180\n",
      "Rationing policy with 2 seats p1=40, p2=100, l=1 \t: 140\n",
      "Rationing policy with 1 seats p1=40, p2=95, l=1 \t: 95\n"
     ]
    }
   ],
   "source": [
    "data=[[170,50],[150,40],[13,95],[12,100]]\n",
    "customers=pd.DataFrame(data,columns=['arrival_time','valuation'])\n",
    "\n",
    "print('Constant policy with 2 seats p=50 \\t:',simulateConstant(customers,2,50))\n",
    "print('Constant policy with 2 seats p=100 \\t:',simulateConstant(customers,2,100))\n",
    "print('Dynamic policy with 3 seats p1=40, p2=95 \\t:',simulateDynamic(customers,3,40,95))\n",
    "print('Dynamic policy with 2 seats p1=40, p2=95 \\t:',simulateDynamic(customers,2,40,95))\n",
    "print('Dynamic policy with 1 seats p1=50, p2=100 \\t:',simulateDynamic(customers,1,50,100))\n",
    "print('Rationing policy with 3 seats p1=40, p2=100, l=1 \\t:',\\\n",
    "        simulateRationing(customers,3,40,100,1))\n",
    "print('Rationing policy with 2 seats p1=40, p2=100, l=1 \\t:',\\\n",
    "        simulateRationing(customers,2,40,100,1))\n",
    "print('Rationing policy with 1 seats p1=40, p2=95, l=1 \\t:',\\\n",
    "        simulateRationing(customers,1,40,95,1))"
   ]
  }
 ],
 "metadata": {
  "kernelspec": {
   "display_name": "Python 3",
   "language": "python",
   "name": "python3"
  },
  "language_info": {
   "codemirror_mode": {
    "name": "ipython",
    "version": 3
   },
   "file_extension": ".py",
   "mimetype": "text/x-python",
   "name": "python",
   "nbconvert_exporter": "python",
   "pygments_lexer": "ipython3",
   "version": "3.7.3"
  }
 },
 "nbformat": 4,
 "nbformat_minor": 2
}
